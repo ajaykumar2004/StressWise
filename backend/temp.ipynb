{
 "cells": [
  {
   "cell_type": "code",
   "execution_count": 18,
   "metadata": {},
   "outputs": [],
   "source": [
    "import os\n",
    "import numpy as np\n",
    "import pandas as pd\n",
    "from sklearn.model_selection import train_test_split\n",
    "from sklearn.preprocessing import StandardScaler\n",
    "from sklearn.preprocessing import MinMaxScaler\n",
    "from keras.models import Sequential, load_model\n",
    "from keras.layers import LSTM, Dense, Dropout\n",
    "import pytz\n",
    "from datetime import datetime\n",
    "from IPython.display import display, Markdown"
   ]
  },
  {
   "cell_type": "code",
   "execution_count": 19,
   "metadata": {},
   "outputs": [],
   "source": [
    "dataset = pd.read_csv(\"Final_Dataset.csv\")\n",
    "\n",
    "# Prepare features and target variable\n",
    "X = dataset.drop(columns=['sl'])  # Features\n",
    "y = dataset['sl']  # Target variable\n"
   ]
  },
  {
   "cell_type": "code",
   "execution_count": 3,
   "metadata": {},
   "outputs": [],
   "source": [
    "ideal_ranges = {\n",
    "    'Snoring Rate': (0, 100),\n",
    "    'Respiration Rate': (0, 50),\n",
    "    'Body Temperature': (96, 100),\n",
    "    'Limb Movement': (0, 20),\n",
    "    'Blood Oxygen': (0, 100),\n",
    "    'Eye Movement': (0, 100),\n",
    "    'Sleeping Hours': (0, 24),\n",
    "    'Heart Rate': (0, 200)\n",
    "}\n"
   ]
  },
  {
   "cell_type": "code",
   "execution_count": 20,
   "metadata": {},
   "outputs": [
    {
     "name": "stdout",
     "output_type": "stream",
     "text": [
      "[[[0.88727273 0.69142857 0.48857143 ... 0.88       0.20444444 0.69142857]]\n",
      "\n",
      " [[0.848      0.65028571 0.468      ... 0.864      0.17244444 0.65028571]]\n",
      "\n",
      " [[0.27272727 0.28571429 0.78571429 ... 0.55555556 0.77777778 0.28571429]]\n",
      "\n",
      " ...\n",
      "\n",
      " [[0.95461818 0.82171429 0.13428571 ... 0.93066667 0.         0.82171429]]\n",
      "\n",
      " [[0.248      0.26628571 0.76628571 ... 0.54044444 0.74755556 0.26628571]]\n",
      "\n",
      " [[0.52581818 0.38514286 0.59942857 ... 0.71022222 0.45422222 0.38514286]]]\n"
     ]
    }
   ],
   "source": [
    "scaler = MinMaxScaler(feature_range=(0, 1))  # Scales to [0, 1] by default\n",
    "X = scaler.fit_transform(X)\n",
    "X = X.reshape(X.shape[0], 1, X.shape[1]) \n",
    "print(X)"
   ]
  },
  {
   "cell_type": "code",
   "execution_count": 25,
   "metadata": {},
   "outputs": [],
   "source": [
    "X_train, X_test, y_train, y_test = train_test_split(X, y, test_size=0.2, random_state=42)"
   ]
  },
  {
   "cell_type": "code",
   "execution_count": 26,
   "metadata": {},
   "outputs": [
    {
     "name": "stdout",
     "output_type": "stream",
     "text": [
      "[[0.02254545 0.03542857 0.83885714 0.06613333 0.89973333 0.11022222\n",
      "  0.83288889 0.03542857]]\n"
     ]
    }
   ],
   "source": [
    "print(X_train[0])"
   ]
  },
  {
   "cell_type": "code",
   "execution_count": 6,
   "metadata": {},
   "outputs": [
    {
     "name": "stderr",
     "output_type": "stream",
     "text": [
      "WARNING:absl:Compiled the loaded model, but the compiled metrics have yet to be built. `model.compile_metrics` will be empty until you train or evaluate the model.\n"
     ]
    }
   ],
   "source": [
    "if not os.path.isfile(\"trained_model.h5\"):\n",
    "    model = Sequential([\n",
    "        LSTM(64, input_shape=(X_train.shape[1], X_train.shape[2])),\n",
    "        Dropout(0.5),\n",
    "        Dense(32, activation='relu'),\n",
    "        Dense(1, activation='linear')\n",
    "    ])\n",
    "    model.compile(optimizer='adam', loss='mean_squared_error', metrics=['mae'])\n",
    "    model.fit(X_train, y_train, epochs=60, batch_size=32, validation_data=(X_test, y_test))\n",
    "    model.save(\"trained_model.h5\")\n",
    "else:\n",
    "    model = load_model(\"trained_model.h5\")"
   ]
  },
  {
   "cell_type": "code",
   "execution_count": 7,
   "metadata": {},
   "outputs": [
    {
     "name": "stdout",
     "output_type": "stream",
     "text": [
      "\u001b[1m4/4\u001b[0m \u001b[32m━━━━━━━━━━━━━━━━━━━━\u001b[0m\u001b[37m\u001b[0m \u001b[1m3s\u001b[0m 40ms/step - loss: 0.0018 - mean_absolute_error: 0.0360\n"
     ]
    },
    {
     "data": {
      "text/markdown": [
       "Test MAE: 0.0365"
      ],
      "text/plain": [
       "<IPython.core.display.Markdown object>"
      ]
     },
     "metadata": {},
     "output_type": "display_data"
    }
   ],
   "source": [
    "test_loss, test_mae = model.evaluate(X_test, y_test)\n",
    "display(Markdown(f'Test MAE: {test_mae:.4f}'))"
   ]
  },
  {
   "cell_type": "code",
   "execution_count": null,
   "metadata": {},
   "outputs": [],
   "source": [
    "single_input = np.array([[0.1, 0.2, 0.3, 0.4, 0.5, 0.6, 0.7, 0.8]]) \n",
    "single_input_reshaped = single_input.reshape(1, 1, 8)"
   ]
  },
  {
   "cell_type": "code",
   "execution_count": null,
   "metadata": {},
   "outputs": [],
   "source": []
  }
 ],
 "metadata": {
  "kernelspec": {
   "display_name": "venv",
   "language": "python",
   "name": "python3"
  },
  "language_info": {
   "codemirror_mode": {
    "name": "ipython",
    "version": 3
   },
   "file_extension": ".py",
   "mimetype": "text/x-python",
   "name": "python",
   "nbconvert_exporter": "python",
   "pygments_lexer": "ipython3",
   "version": "3.11.3"
  }
 },
 "nbformat": 4,
 "nbformat_minor": 2
}
